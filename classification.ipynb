{
 "cells": [
  {
   "cell_type": "markdown",
   "metadata": {},
   "source": [
    "# Classification"
   ]
  },
  {
   "cell_type": "markdown",
   "metadata": {},
   "source": [
    "For a classification task, is comum to start by using a linear regression model, like $f_{\\mathbf{w},b}(\\mathbf{x}^{(i)}) = \\mathbf{w} \\cdot  \\mathbf{x}^{(i)} + b$, to predict $y$ given $x$. However, when we deal with binary output variables (0 or 1), as is often the case in classification, we need a way to ensure that our predictions are in the range of 0 to 1. This is where we can use a logistic function to map all input values to values between 0 and 1, like the the sigmoid function.\n",
    "\n",
    "The formula for a sigmoid function is as follows -  \n",
    "\n",
    "$$\n",
    "g(z) = \\frac{1}{1+e^{-z}}\\tag{1}\n",
    "$$\n",
    "\n",
    "In the case of logistic regression, z (the input to the sigmoid function), is the output of a linear regression model. \n",
    "- In the case of a single example, $z$ is scalar.\n",
    "- In the case of multiple examples, $z$ may be a vector consisting of $m$ values, one for each example. \n",
    "- The implementation of the sigmoid function should cover both of these potential input formats.\n",
    "Let's implement this in Python."
   ]
  },
  {
   "cell_type": "markdown",
   "metadata": {},
   "source": [
    "NumPy has a function called [`exp()`](https://numpy.org/doc/stable/reference/generated/numpy.exp.html), which offers a convenient way to calculate the exponential ( $e^{z}$) of all elements in the input array (`z`), or for a single number."
   ]
  },
  {
   "cell_type": "markdown",
   "metadata": {},
   "source": [
    "## Librarys"
   ]
  },
  {
   "cell_type": "code",
   "execution_count": 4,
   "metadata": {},
   "outputs": [],
   "source": [
    "import numpy as np\n",
    "import matplotlib.pyplot as plt\n"
   ]
  },
  {
   "cell_type": "markdown",
   "metadata": {},
   "source": [
    "## Data for example"
   ]
  },
  {
   "cell_type": "markdown",
   "metadata": {},
   "source": [
    "This is a data example of an array of evenly spaced values between -10 and 10"
   ]
  },
  {
   "cell_type": "code",
   "execution_count": 5,
   "metadata": {},
   "outputs": [],
   "source": [
    "z_tmp = np.arange(-10,11)"
   ]
  },
  {
   "cell_type": "markdown",
   "metadata": {},
   "source": [
    "This is a categorical data example of tumor classification."
   ]
  },
  {
   "cell_type": "code",
   "execution_count": 6,
   "metadata": {},
   "outputs": [],
   "source": [
    "x_train = np.array([[0.5, 1.5], [1,1], [1.5, 0.5], [3, 0.5], [2, 2], [1, 2.5]]) \n",
    "y_train = np.array([0, 0, 0, 1, 1, 1])    \n",
    "\n",
    "w_in = np.zeros((1))\n",
    "b_in = 0"
   ]
  },
  {
   "cell_type": "markdown",
   "metadata": {},
   "source": [
    "## Sigmoid or Logistic Function"
   ]
  },
  {
   "cell_type": "code",
   "execution_count": 7,
   "metadata": {},
   "outputs": [],
   "source": [
    "def sigmoid(z):\n",
    "    \"\"\"\n",
    "    Compute the sigmoid of z\n",
    "\n",
    "    Args:\n",
    "        z (ndarray): A scalar, numpy array of any size.\n",
    "\n",
    "    Returns:\n",
    "        g (ndarray): sigmoid(z), with the same shape as z\n",
    "    \"\"\"\n",
    "    \n",
    "    return 1/(1 + np.exp(-z))"
   ]
  },
  {
   "cell_type": "code",
   "execution_count": 8,
   "metadata": {},
   "outputs": [
    {
     "name": "stdout",
     "output_type": "stream",
     "text": [
      "Input (z), Output (sigmoid(z))\n",
      "[[-1.000e+01  4.540e-05]\n",
      " [-9.000e+00  1.234e-04]\n",
      " [-8.000e+00  3.354e-04]\n",
      " [-7.000e+00  9.111e-04]\n",
      " [-6.000e+00  2.473e-03]\n",
      " [-5.000e+00  6.693e-03]\n",
      " [-4.000e+00  1.799e-02]\n",
      " [-3.000e+00  4.743e-02]\n",
      " [-2.000e+00  1.192e-01]\n",
      " [-1.000e+00  2.689e-01]\n",
      " [ 0.000e+00  5.000e-01]\n",
      " [ 1.000e+00  7.311e-01]\n",
      " [ 2.000e+00  8.808e-01]\n",
      " [ 3.000e+00  9.526e-01]\n",
      " [ 4.000e+00  9.820e-01]\n",
      " [ 5.000e+00  9.933e-01]\n",
      " [ 6.000e+00  9.975e-01]\n",
      " [ 7.000e+00  9.991e-01]\n",
      " [ 8.000e+00  9.997e-01]\n",
      " [ 9.000e+00  9.999e-01]\n",
      " [ 1.000e+01  1.000e+00]]\n"
     ]
    }
   ],
   "source": [
    "y = sigmoid(z_tmp)\n",
    "\n",
    "# Code for pretty printing the two arrays next to each other\n",
    "np.set_printoptions(precision=3) \n",
    "print(\"Input (z), Output (sigmoid(z))\")\n",
    "print(np.c_[z_tmp, y])"
   ]
  },
  {
   "cell_type": "code",
   "execution_count": 9,
   "metadata": {},
   "outputs": [
    {
     "data": {
      "image/png": "[encoded data removed]",
      "text/plain": [
       "<Figure size 500x300 with 1 Axes>"
      ]
     },
     "metadata": {},
     "output_type": "display_data"
    }
   ],
   "source": [
    "# Plot z vs sigmoid(z)\n",
    "fig, ax = plt.subplots(1,1,figsize=(5,3))\n",
    "ax.plot(z_tmp, y, c=\"b\")\n",
    "ax.axvline(x=0, linewidth=1, color='r', linestyle='--')\n",
    "\n",
    "ax.set_title(\"Sigmoid function\")\n",
    "ax.set_ylabel('sigmoid(z)')\n",
    "ax.set_xlabel('z')\n",
    "plt.show()"
   ]
  },
  {
   "cell_type": "markdown",
   "metadata": {},
   "source": [
    "As you can see, the sigmoid function approaches  `0` as `z` goes to large negative values and approaches `1` as `z` goes to large positive values.\n"
   ]
  },
  {
   "cell_type": "markdown",
   "metadata": {},
   "source": [
    "## Logistic Loss Function"
   ]
  },
  {
   "cell_type": "markdown",
   "metadata": {},
   "source": [
    "Logistic Regression uses a loss function more suited to the task of categorization where the target is 0 or 1 rather than any number. \n",
    "\n",
    "This is defined: \n",
    "* $loss(f_{\\mathbf{w},b}(\\mathbf{x}^{(i)}), y^{(i)})$ is the cost for a single data point, which is:\n",
    "\n",
    "\\begin{equation}\n",
    "  loss(f_{\\mathbf{w},b}(\\mathbf{x}^{(i)}), y^{(i)}) = \\begin{cases}\n",
    "    - \\log\\left(f_{\\mathbf{w},b}\\left( \\mathbf{x}^{(i)} \\right) \\right) & \\text{if $y^{(i)}=1$}\\\\\n",
    "    - \\log \\left( 1 - f_{\\mathbf{w},b}\\left( \\mathbf{x}^{(i)} \\right) \\right) & \\text{if $y^{(i)}=0$}\n",
    "  \\end{cases}\n",
    "\\end{equation}\n",
    "\n",
    "\n",
    "*  $f_{\\mathbf{w},b}(\\mathbf{x}^{(i)})$ is the model's prediction, while $y^{(i)}$ is the target value.\n",
    "\n",
    "*  $f_{\\mathbf{w},b}(\\mathbf{x}^{(i)}) = g(\\mathbf{w} \\cdot\\mathbf{x}^{(i)}+b)$ where function $g$ is the sigmoid function.\n",
    "\n",
    "The defining feature of this loss function is the fact that it uses two separate curves. One for the case when the target is zero or ($y=0$) and another for when the target is one ($y=1$). Combined, these curves provide the behavior useful for a loss function, namely, being zero when the prediction matches the target and rapidly increasing in value as the prediction differs from the target."
   ]
  },
  {
   "cell_type": "markdown",
   "metadata": {},
   "source": [
    "The loss function above can be rewritten to be easier to implement.\n",
    "    $$loss(f_{\\mathbf{w},b}(\\mathbf{x}^{(i)}), y^{(i)}) = (-y^{(i)} \\log\\left(f_{\\mathbf{w},b}\\left( \\mathbf{x}^{(i)} \\right) \\right) - \\left( 1 - y^{(i)}\\right) \\log \\left( 1 - f_{\\mathbf{w},b}\\left( \\mathbf{x}^{(i)} \\right) \\right)$$\n",
    "  \n",
    "This is a rather formidable-looking equation. Because $y^{(i)}$ can have only two values, 0 and 1, the equation gets simplified in two pieces: when $ y^{(i)} = 0$, the left-hand term is eliminated and when $ y^{(i)} = 1$, the right-hand term is eliminated.\n",
    "\n",
    "\n",
    "OK, with this new logistic loss function, a cost function can be produced that incorporates the loss from all the examples. This will be the topic of the next lab. For now, let's take a look at the cost vs parameters curve for the simple example we considered above:"
   ]
  },
  {
   "cell_type": "code",
   "execution_count": 10,
   "metadata": {},
   "outputs": [],
   "source": [
    "def calculate_logistic_regression_output(w, b, x):\n",
    "    f_wb = np.dot(x, w) + b\n",
    "    return sigmoid(f_wb)\n",
    "\n",
    "\n",
    "def compute_logistic_loss(w, b, x, y):\n",
    "    m = len(x)\n",
    "    y_predicted = calculate_logistic_regression_output(w, b, x)\n",
    "    \n",
    "    loss = np.sum(-np.dot(y, np.log(y_predicted)) - np.dot(1 - y, np.log(1 - y_predicted)))\n",
    "    \n",
    "    return 1/m * loss"
   ]
  },
  {
   "cell_type": "code",
   "execution_count": 11,
   "metadata": {},
   "outputs": [
    {
     "name": "stdout",
     "output_type": "stream",
     "text": [
      "0.3668667864055174\n"
     ]
    }
   ],
   "source": [
    "w_tmp = np.array([1,1])\n",
    "b_tmp = -3\n",
    "print(compute_logistic_loss(w_tmp, b_tmp, x_train, y_train))"
   ]
  },
  {
   "cell_type": "code",
   "execution_count": 12,
   "metadata": {},
   "outputs": [
    {
     "data": {
      "image/png": "[encoded data removed]",
      "text/plain": [
       "<Figure size 640x480 with 1 Axes>"
      ]
     },
     "metadata": {},
     "output_type": "display_data"
    }
   ],
   "source": [
    "# Dividindo os pontos de acordo com os rótulos\n",
    "x_class_0 = x_train[y_train == 0]\n",
    "x_class_1 = x_train[y_train == 1]\n",
    "\n",
    "# Plot\n",
    "plt.scatter(x_class_0[:, 0], x_class_0[:, 1], color='blue', label='y_train = 0')\n",
    "plt.scatter(x_class_1[:, 0], x_class_1[:, 1], color='red', label='y_train = 1')\n",
    "plt.xlabel('X1')\n",
    "plt.ylabel('X2')\n",
    "plt.title('Gráfico de Dispersão de X1 vs X2 com rótulos y_train')\n",
    "plt.legend()\n",
    "plt.grid(True)\n",
    "plt.show()"
   ]
  },
  {
   "cell_type": "markdown",
   "metadata": {},
   "source": [
    "## Logistic Gradient Descent"
   ]
  },
  {
   "cell_type": "markdown",
   "metadata": {},
   "source": [
    "We already defined gradient descent on the other notebook about regression. We will be using him to find the best values for the parameters to our model. The only diferrence from the previous algorithm is the fact that $J(w,b) = \\frac{1}{1+e^{-z}}$\n",
    "\n",
    "\n",
    "$$\n",
    "\\begin{align*} \\text{repeat}&\\text{ until convergence:} \\; \\lbrace \\newline\n",
    "\\;  w &= w -  \\alpha \\frac{\\partial J(w,b)}{\\partial b} \\tag{3}  \\; \\newline \n",
    " b &= b -  \\alpha \\frac{\\partial J(w,b)}{\\partial b}  \\newline \\rbrace\n",
    "\\end{align*}\n",
    "$$\n",
    "\n",
    "The gradient are the partial derivatives of the cost function $J(w, b)$ with respect to $w$ and $b$ separetly, defined as:\n",
    "\n",
    "$$\n",
    "\\begin{align}\n",
    "\\frac{\\partial J(w,b)}{\\partial w}  &= \\frac{1}{m} \\sum\\limits_{i = 0}^{m-1} (f_{w,b}(x^{(i)}) - y^{(i)})x^{(i)} \\tag{4}\\\\\n",
    "  \\frac{\\partial J(w,b)}{\\partial b}  &= \\frac{1}{m} \\sum\\limits_{i = 0}^{m-1} (f_{w,b}(x^{(i)}) - y^{(i)}) \\tag{5}\\\\\n",
    "\\end{align}\n",
    "$$\n"
   ]
  },
  {
   "cell_type": "code",
   "execution_count": 13,
   "metadata": {},
   "outputs": [],
   "source": [
    "def compute_gradient_logistic(x, y, w, b):\n",
    "    \"\"\"\n",
    "    Computes the gradient using formula\n",
    "\n",
    "    Args:\n",
    "        x (ndarray): Shape (m, n) variable, where m is the number of samples and n is the number of features\n",
    "        y (ndarray): Shape (m,) target\n",
    "        w (ndarray): Shape (n,) parameter of the model\n",
    "        b (scalar): Parameter of the model\n",
    "\n",
    "    Returns:\n",
    "        dJ_dw (ndarray): Partial derivative of cost with respect to w, shape (n,)\n",
    "        dJ_db (scalar): Partial derivative of cost with respect to b\n",
    "    \"\"\"\n",
    "    \n",
    "    m = len(x)\n",
    "    f_wb = calculate_logistic_regression_output(w, b, x)\n",
    "    dJ_dw = np.dot((f_wb - y), x)\n",
    "    dJ_db = np.sum(f_wb - y)\n",
    "    \n",
    "    dJ_dw = np.multiply(dJ_dw, 1/m)\n",
    "    dJ_db *= (1 / m)\n",
    "    \n",
    "    \n",
    "    return dJ_dw, dJ_db\n",
    "\n",
    "\n",
    "def logistic_regression(x, y, lr=0.00000001, thold=1e-6, iterations=1000):\n",
    "    \"\"\"\n",
    "    Performs batch gradient descent\n",
    "    \n",
    "    Args:\n",
    "        X (ndarray (m,n)    : Data, m examples with n features\n",
    "        y (ndarray (m,))    : Target values\n",
    "        lr (float)          : Learning rate\n",
    "        thold (float)       : Threshold to stop iterations\n",
    "        num_iters (scalar)  : Number of iterations to run gradient descent\n",
    "    \n",
    "    Returns:\n",
    "        w (ndarray (n,))    : Updated values of parameters\n",
    "        b (scalar)          : Updated value of parameter \n",
    "    \"\"\"\n",
    "    w = [np.random.rand() for _ in x[0]]\n",
    "    b = np.random.rand()\n",
    "\n",
    "    w_history = []\n",
    "    b_history = []\n",
    "    costs_history = []  # current cost = costs_history[-1] / last cost = costs_history[-2]\n",
    "    \n",
    "    for i in range(int(iterations)):\n",
    "        dJ_dw, dJ_db = compute_gradient_logistic(x, y, w, b)\n",
    "        # Updating parameters\n",
    "        w = w - lr * dJ_dw\n",
    "        b = b - lr * dJ_db\n",
    "        \n",
    "        costs_history.append(compute_logistic_loss(w, b, x, y))\n",
    "        w_history.append(w)\n",
    "        b_history.append(b)\n",
    "\n",
    "        # Printing the parameters for every 100th iteration\n",
    "        if i % 5000 == 0:\n",
    "            print(f\"Iteration {i}: Cost {costs_history[-1]}, Weight {w}, Bias {b}\")\n",
    "            \n",
    "            \n",
    "        if len(costs_history) >= 2 and abs(costs_history[-2] - costs_history[-1]) <= thold:\n",
    "            reason_break = \"thold\"\n",
    "            break\n",
    "    \n",
    "    print(f\"Model converged using  after {i} iterations with: \\nCost: {costs_history[-1]} \\nWeight: {w} \\nBias: {b}\")\n",
    "    \n",
    "    return w, b, w_history, b_history, costs_history"
   ]
  },
  {
   "cell_type": "code",
   "execution_count": 14,
   "metadata": {},
   "outputs": [
    {
     "name": "stdout",
     "output_type": "stream",
     "text": [
      "Iteration 0: Cost 0.7516480015713476, Weight [0.471 0.103], Bias 0.4021913669799498\n",
      "Iteration 5000: Cost 0.03445280686284776, Weight [4.352 4.146], Bias -11.649275810941397\n",
      "Iteration 10000: Cost 0.01714464818972752, Weight [5.279 5.076], Bias -14.216650000310333\n",
      "Model converged using  after 13129 iterations with: \n",
      "Cost: 0.013031366120090192 \n",
      "Weight: [5.643 5.441] \n",
      "Bias: -15.223213620251085\n"
     ]
    }
   ],
   "source": [
    "w_out, b_out, _, _, _ = logistic_regression(x_train, y_train, lr = 0.1, iterations=1000000)"
   ]
  },
  {
   "cell_type": "code",
   "execution_count": 15,
   "metadata": {},
   "outputs": [],
   "source": [
    "def plt_prob(ax, w, b):\n",
    "    x0_vals = np.linspace(0, 4, 100)\n",
    "    x1_vals = np.linspace(0, 3.5, 100)\n",
    "    xx0, xx1 = np.meshgrid(x0_vals, x1_vals)\n",
    "    zz = sigmoid(w[0] * xx0 + w[1] * xx1 + b)\n",
    "    ax.contourf(xx0, xx1, zz, cmap='RdBu', alpha=0.5)\n",
    "\n",
    "def plot_data(X, y, ax):\n",
    "    ax.scatter(X[y == 0][:, 0], X[y == 0][:, 1], color='red', label='Class 0')\n",
    "    ax.scatter(X[y == 1][:, 0], X[y == 1][:, 1], color='blue', label='Class 1')\n",
    "    ax.legend()"
   ]
  },
  {
   "cell_type": "code",
   "execution_count": 16,
   "metadata": {},
   "outputs": [
    {
     "data": {
      "image/png": "[encoded data removed]",
      "text/plain": [
       "<Figure size 500x400 with 1 Axes>"
      ]
     },
     "metadata": {},
     "output_type": "display_data"
    }
   ],
   "source": [
    "fig,ax = plt.subplots(1,1,figsize=(5,4))\n",
    "# plot the probability \n",
    "plt_prob(ax, w_out, b_out)\n",
    "\n",
    "# Plot the original data\n",
    "ax.set_ylabel(r'$x_1$')\n",
    "ax.set_xlabel(r'$x_0$')   \n",
    "ax.axis([0, 4, 0, 3.5])\n",
    "plot_data(x_train,y_train,ax)\n",
    "\n",
    "# Plot the decision boundary\n",
    "x0 = np.linspace(0, 4, 100)\n",
    "x1 = -(b_out + w_out[0] * x0) / w_out[1]\n",
    "ax.plot(x0, x1, c='black', lw=2)\n",
    "plt.show()"
   ]
  },
  {
   "cell_type": "markdown",
   "metadata": {},
   "source": [
    "# Regularizesd Logistic Regression "
   ]
  },
  {
   "cell_type": "markdown",
   "metadata": {},
   "source": [
    "## Cost Function"
   ]
  },
  {
   "cell_type": "markdown",
   "metadata": {},
   "source": [
    "For regularized **logistic** regression, the cost function is of the form\n",
    "$$J(\\mathbf{w},b) = \\frac{1}{m}  \\sum_{i=0}^{m-1} \\left[ -y^{(i)} \\log\\left(f_{\\mathbf{w},b}\\left( \\mathbf{x}^{(i)} \\right) \\right) - \\left( 1 - y^{(i)}\\right) \\log \\left( 1 - f_{\\mathbf{w},b}\\left( \\mathbf{x}^{(i)} \\right) \\right) \\right] + \\frac{\\lambda}{2m}  \\sum_{j=0}^{n-1} w_j^2 \\tag{3}$$\n",
    "where:\n",
    "$$ f_{\\mathbf{w},b}(\\mathbf{x}^{(i)}) = sigmoid(\\mathbf{w} \\cdot \\mathbf{x}^{(i)} + b)  \\tag{4} $$ \n",
    "\n",
    "Compare this to the cost function without regularization (which you implemented in  a previous lab):\n",
    "\n",
    "$$ J(\\mathbf{w},b) = \\frac{1}{m}\\sum_{i=0}^{m-1} \\left[ (-y^{(i)} \\log\\left(f_{\\mathbf{w},b}\\left( \\mathbf{x}^{(i)} \\right) \\right) - \\left( 1 - y^{(i)}\\right) \\log \\left( 1 - f_{\\mathbf{w},b}\\left( \\mathbf{x}^{(i)} \\right) \\right)\\right] \\tag{5} $$\n",
    "\n",
    "As was the case in linear regression above, the difference is the regularization term, which is    <span style=\"color:orange\">\n",
    "    $\\frac{\\lambda}{2m}  \\sum_{j=0}^{n-1} w_j^2$ </span> \n",
    "\n",
    "Including this term encourages gradient descent to minimize the size of the parameters. Note, in this example, the parameter $b$ is not regularized. This is standard practice. "
   ]
  },
  {
   "cell_type": "code",
   "execution_count": 19,
   "metadata": {},
   "outputs": [],
   "source": [
    "def compute_logistic_cost_reg(w, b, x, y, lambda_):\n",
    "    m = len(x)\n",
    "    reg_cost =  lambda_/(2*m) * np.sum(w**2)\n",
    "    total_cost = compute_logistic_loss(w, b, x, y) + reg_cost\n",
    "    \n",
    "    return total_cost"
   ]
  },
  {
   "cell_type": "code",
   "execution_count": 21,
   "metadata": {},
   "outputs": [
    {
     "name": "stdout",
     "output_type": "stream",
     "text": [
      "Regularized cost: 0.6850849138741673\n"
     ]
    }
   ],
   "source": [
    "np.random.seed(1)\n",
    "X_tmp = np.random.rand(5,6)\n",
    "y_tmp = np.array([0,1,0,1,0])\n",
    "w_tmp = np.random.rand(X_tmp.shape[1]).reshape(-1,)-0.5\n",
    "b_tmp = 0.5\n",
    "lambda_tmp = 0.7\n",
    "cost_tmp = compute_logistic_cost_reg(w_tmp, b_tmp, X_tmp, y_tmp, lambda_tmp)\n",
    "\n",
    "print(\"Regularized cost:\", cost_tmp)"
   ]
  },
  {
   "cell_type": "markdown",
   "metadata": {},
   "source": [
    "## Gradient descent with regularization on classification"
   ]
  },
  {
   "cell_type": "markdown",
   "metadata": {},
   "source": [
    "The basic algorithm for running gradient descent does not change with regularization. What changes is the derivative for $f_{\\mathbf{w}b}$, with the added regularization term $ \\frac{\\lambda}{m} w_j $\n",
    "\n",
    "$$\\begin{align*}\n",
    "\\frac{\\partial J(\\mathbf{w},b)}{\\partial w_j}  &= \\frac{1}{m} \\sum\\limits_{i = 0}^{m-1} (f_{\\mathbf{w},b}(\\mathbf{x}^{(i)}) - y^{(i)})x_{j}^{(i)}  +  \\frac{\\lambda}{m} w_j \\tag{6}\n",
    "\\end{align*}$$\n",
    "\n",
    "For a **logistic** regression model  \n",
    "    $z = \\mathbf{w} \\cdot \\mathbf{x} + b$  \n",
    "    $f_{\\mathbf{w},b}(x) = g(z)$  \n",
    "    where $g(z)$ is the sigmoid function:  \n",
    "    $g(z) = \\frac{1}{1+e^{-z}}$   "
   ]
  },
  {
   "cell_type": "code",
   "execution_count": 45,
   "metadata": {},
   "outputs": [],
   "source": [
    "def compute_gradient_logistic_reg(x, y, w, b, lambda_):\n",
    "    \"\"\"\n",
    "    Computes the gradient using formula\n",
    "    \n",
    "    Args:\n",
    "        x (ndarray): Shape (m, n) variable, where m is the number of samples and n is the number of features\n",
    "        y (ndarray): Shape (m,) target\n",
    "        w (ndarray): Shape (n,) parameter of the model\n",
    "        b (scalar): Parameter of the model\n",
    "\n",
    "    Returns:\n",
    "        dJ_dw (ndarray): Partial derivative of cost with respect to w, shape (n,)\n",
    "        dJ_db (scalar): Partial derivative of cost with respect to b\n",
    "    \"\"\"\n",
    "    \n",
    "    m = len(x)\n",
    "    f_wb = calculate_logistic_regression_output(w, b, x)\n",
    "    dJ_dw = np.dot((f_wb - y), x)\n",
    "    dJ_db = np.sum(f_wb - y)\n",
    "    \n",
    "    dJ_dw = dJ_dw * (1/m) + (lambda_/m) * w\n",
    "    dJ_db *= (1 / m)\n",
    "    \n",
    "    \n",
    "    return dJ_dw, dJ_db"
   ]
  },
  {
   "cell_type": "code",
   "execution_count": 46,
   "metadata": {},
   "outputs": [
    {
     "name": "stdout",
     "output_type": "stream",
     "text": [
      "dj_db: [0.174 0.32  0.108]\n",
      "Regularized dj_dw:\n",
      " 0.34179899497279104\n"
     ]
    }
   ],
   "source": [
    "np.random.seed(1)\n",
    "X_tmp = np.random.rand(5,3)\n",
    "y_tmp = np.array([0,1,0,1,0])\n",
    "w_tmp = np.random.rand(X_tmp.shape[1])\n",
    "b_tmp = 0.5\n",
    "lambda_tmp = 0.7\n",
    "dj_db_tmp, dj_dw_tmp =  compute_gradient_logistic_reg(X_tmp, y_tmp, w_tmp, b_tmp, lambda_tmp)\n",
    "\n",
    "print(f\"dj_db: {dj_db_tmp}\", )\n",
    "print(f\"Regularized dj_dw:\\n {dj_dw_tmp.tolist()}\", )"
   ]
  }
 ],
 "metadata": {
  "kernelspec": {
   "display_name": "Python 3",
   "language": "python",
   "name": "python3"
  },
  "language_info": {
   "codemirror_mode": {
    "name": "ipython",
    "version": 3
   },
   "file_extension": ".py",
   "mimetype": "text/x-python",
   "name": "python",
   "nbconvert_exporter": "python",
   "pygments_lexer": "ipython3",
   "version": "3.11.9"
  }
 },
 "nbformat": 4,
 "nbformat_minor": 2
}
